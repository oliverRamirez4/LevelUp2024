{
 "cells": [
  {
   "cell_type": "code",
   "execution_count": 9,
   "metadata": {},
   "outputs": [
    {
     "name": "stdout",
     "output_type": "stream",
     "text": [
      "Unexpected exception formatting exception. Falling back to standard exception\n"
     ]
    },
    {
     "name": "stderr",
     "output_type": "stream",
     "text": [
      "Traceback (most recent call last):\n",
      "  File \"/Users/oliverramirez/anaconda3/envs/levelUp/lib/python3.11/site-packages/IPython/core/interactiveshell.py\", line 3553, in run_code\n",
      "    exec(code_obj, self.user_global_ns, self.user_ns)\n",
      "  File \"/var/folders/_t/k1nmg3v16ds82k94t0pvgsq40000gn/T/ipykernel_8962/3215204122.py\", line 3, in <module>\n",
      "    chatbot = pipeline(model=\"facebook/blenderbot-400M-distill\")\n",
      "              ^^^^^^^^^^^^^^^^^^^^^^^^^^^^^^^^^^^^^^^^^^^^^^^^^^\n",
      "  File \"/Users/oliverramirez/anaconda3/envs/levelUp/lib/python3.11/site-packages/transformers/pipelines/__init__.py\", line 807, in pipeline\n",
      "    # Retrieve the task\n",
      "                        \n",
      "  File \"/Users/oliverramirez/anaconda3/envs/levelUp/lib/python3.11/site-packages/transformers/pipelines/base.py\", line 267, in infer_framework_load_model\n",
      "    \"Model might be a TensorFlow model (ending with `.h5`) but TensorFlow is not available. \"\n",
      "        ^^^^^^^^^^^^^^^^^^^^^^^^^^^^^^^^^^^^^^^^^^^^\n",
      "  File \"/Users/oliverramirez/anaconda3/envs/levelUp/lib/python3.11/site-packages/transformers/models/auto/auto_factory.py\", line 516, in from_pretrained\n",
      "    if not isinstance(config, PretrainedConfig):\n",
      "               ^^^^^^^^^^^^^^^^^^^^^^^^^^^^^^^^^\n",
      "  File \"/Users/oliverramirez/anaconda3/envs/levelUp/lib/python3.11/site-packages/transformers/models/blenderbot/modeling_blenderbot.py\", line 1213, in from_pretrained\n",
      "    return super(BlenderbotForConditionalGeneration, cls).from_pretrained(\n",
      "           ^^^^^^^^^^^^^^^^^^^^^^^^^^^^^^^^^^^^^^^^^^^^^^^^^^^^^^^^^^^^^^^\n",
      "  File \"/Users/oliverramirez/anaconda3/envs/levelUp/lib/python3.11/site-packages/transformers/modeling_utils.py\", line 2876, in from_pretrained\n",
      "    device_map = kwargs.pop(\"device_map\", None)\n",
      "                ^^^^^^^^^^^^^^^^^^^^^^^^^^^^^^^^\n",
      "  File \"/Users/oliverramirez/anaconda3/envs/levelUp/lib/python3.11/site-packages/transformers/models/blenderbot/modeling_blenderbot.py\", line 1195, in __init__\n",
      "    self.model = BlenderbotModel(config)\n",
      "                 ^^^^^^^^^^^^^^^^^^^^^^^\n",
      "  File \"/Users/oliverramirez/anaconda3/envs/levelUp/lib/python3.11/site-packages/transformers/models/blenderbot/modeling_blenderbot.py\", line 1057, in __init__\n",
      "    self.encoder = BlenderbotEncoder(config, self.shared)\n",
      "                   ^^^^^^^^^^^^^^^^^^^^^^^^^^^^^^^^^^^^^^\n",
      "  File \"/Users/oliverramirez/anaconda3/envs/levelUp/lib/python3.11/site-packages/transformers/models/blenderbot/modeling_blenderbot.py\", line 649, in __init__\n",
      "    self.layers = nn.ModuleList([BlenderbotEncoderLayer(config) for _ in range(config.encoder_layers)])\n",
      "                                ^^^^^^^^^^^^^^^^^^^^^^^^^^^^^^^^^^^^^^^^^^^^^^^^^^^^^^^^^^^^^^^^^^^^^^\n",
      "  File \"/Users/oliverramirez/anaconda3/envs/levelUp/lib/python3.11/site-packages/transformers/models/blenderbot/modeling_blenderbot.py\", line 649, in <listcomp>\n",
      "    self.layers = nn.ModuleList([BlenderbotEncoderLayer(config) for _ in range(config.encoder_layers)])\n",
      "                                 ^^^^^^^^^^^^^^^^^^^^^^^^^^^^^^\n",
      "  File \"/Users/oliverramirez/anaconda3/envs/levelUp/lib/python3.11/site-packages/transformers/models/blenderbot/modeling_blenderbot.py\", line 264, in __init__\n",
      "    self.self_attn = BLENDERBOT_ATTENTION_CLASSES[config._attn_implementation](\n",
      "                                                  ^^^^^^^^^^^^^^^^^^^^^^^^^^^\n",
      "  File \"/Users/oliverramirez/anaconda3/envs/levelUp/lib/python3.11/site-packages/transformers/configuration_utils.py\", line 261, in __getattribute__\n",
      "AttributeError: 'BlenderbotConfig' object has no attribute '_attn_implementation'\n",
      "\n",
      "During handling of the above exception, another exception occurred:\n",
      "\n",
      "Traceback (most recent call last):\n",
      "  File \"/Users/oliverramirez/anaconda3/envs/levelUp/lib/python3.11/site-packages/IPython/core/interactiveshell.py\", line 2144, in showtraceback\n",
      "    stb = self.InteractiveTB.structured_traceback(\n",
      "          ^^^^^^^^^^^^^^^^^^^^^^^^^^^^^^^^^^^^^^^^\n",
      "  File \"/Users/oliverramirez/anaconda3/envs/levelUp/lib/python3.11/site-packages/IPython/core/ultratb.py\", line 1435, in structured_traceback\n",
      "    return FormattedTB.structured_traceback(\n",
      "           ^^^^^^^^^^^^^^^^^^^^^^^^^^^^^^^^^\n",
      "  File \"/Users/oliverramirez/anaconda3/envs/levelUp/lib/python3.11/site-packages/IPython/core/ultratb.py\", line 1326, in structured_traceback\n",
      "    return VerboseTB.structured_traceback(\n",
      "           ^^^^^^^^^^^^^^^^^^^^^^^^^^^^^^^\n",
      "  File \"/Users/oliverramirez/anaconda3/envs/levelUp/lib/python3.11/site-packages/IPython/core/ultratb.py\", line 1173, in structured_traceback\n",
      "    formatted_exception = self.format_exception_as_a_whole(etype, evalue, etb, number_of_lines_of_context,\n",
      "                          ^^^^^^^^^^^^^^^^^^^^^^^^^^^^^^^^^^^^^^^^^^^^^^^^^^^^^^^^^^^^^^^^^^^^^^^^^^^^^^^^\n",
      "  File \"/Users/oliverramirez/anaconda3/envs/levelUp/lib/python3.11/site-packages/IPython/core/ultratb.py\", line 1088, in format_exception_as_a_whole\n",
      "    frames.append(self.format_record(record))\n",
      "                  ^^^^^^^^^^^^^^^^^^^^^^^^^^\n",
      "  File \"/Users/oliverramirez/anaconda3/envs/levelUp/lib/python3.11/site-packages/IPython/core/ultratb.py\", line 970, in format_record\n",
      "    frame_info.lines, Colors, self.has_colors, lvals\n",
      "    ^^^^^^^^^^^^^^^^\n",
      "  File \"/Users/oliverramirez/anaconda3/envs/levelUp/lib/python3.11/site-packages/IPython/core/ultratb.py\", line 792, in lines\n",
      "    return self._sd.lines\n",
      "           ^^^^^^^^^^^^^^\n",
      "  File \"/Users/oliverramirez/anaconda3/envs/levelUp/lib/python3.11/site-packages/stack_data/utils.py\", line 144, in cached_property_wrapper\n",
      "    value = obj.__dict__[self.func.__name__] = self.func(obj)\n",
      "                                               ^^^^^^^^^^^^^^\n",
      "  File \"/Users/oliverramirez/anaconda3/envs/levelUp/lib/python3.11/site-packages/stack_data/core.py\", line 734, in lines\n",
      "    pieces = self.included_pieces\n",
      "             ^^^^^^^^^^^^^^^^^^^^\n",
      "  File \"/Users/oliverramirez/anaconda3/envs/levelUp/lib/python3.11/site-packages/stack_data/utils.py\", line 144, in cached_property_wrapper\n",
      "    value = obj.__dict__[self.func.__name__] = self.func(obj)\n",
      "                                               ^^^^^^^^^^^^^^\n",
      "  File \"/Users/oliverramirez/anaconda3/envs/levelUp/lib/python3.11/site-packages/stack_data/core.py\", line 681, in included_pieces\n",
      "    pos = scope_pieces.index(self.executing_piece)\n",
      "                             ^^^^^^^^^^^^^^^^^^^^\n",
      "  File \"/Users/oliverramirez/anaconda3/envs/levelUp/lib/python3.11/site-packages/stack_data/utils.py\", line 144, in cached_property_wrapper\n",
      "    value = obj.__dict__[self.func.__name__] = self.func(obj)\n",
      "                                               ^^^^^^^^^^^^^^\n",
      "  File \"/Users/oliverramirez/anaconda3/envs/levelUp/lib/python3.11/site-packages/stack_data/core.py\", line 660, in executing_piece\n",
      "    return only(\n",
      "           ^^^^^\n",
      "  File \"/Users/oliverramirez/anaconda3/envs/levelUp/lib/python3.11/site-packages/executing/executing.py\", line 116, in only\n",
      "    raise NotOneValueFound('Expected one value, found 0')\n",
      "executing.executing.NotOneValueFound: Expected one value, found 0\n"
     ]
    }
   ],
   "source": [
    "from transformers import pipeline, Conversation\n",
    "\n",
    "chatbot = pipeline(model=\"facebook/blenderbot-400M-distill\")\n",
    "# Conversation objects initialized with a string will treat it as a user message\n",
    "conversation = Conversation(\"I'm looking for a movie - what's your favourite one?\")\n",
    "#conversation = chatbot(conversation)\n",
    "#conversation.messages[-1][\"content\"]\n",
    "\n"
   ]
  }
 ],
 "metadata": {
  "kernelspec": {
   "display_name": "levelUp",
   "language": "python",
   "name": "python3"
  },
  "language_info": {
   "codemirror_mode": {
    "name": "ipython",
    "version": 3
   },
   "file_extension": ".py",
   "mimetype": "text/x-python",
   "name": "python",
   "nbconvert_exporter": "python",
   "pygments_lexer": "ipython3",
   "version": "3.11.7"
  }
 },
 "nbformat": 4,
 "nbformat_minor": 2
}
